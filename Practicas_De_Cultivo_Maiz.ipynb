{
 "cells": [
  {
   "cell_type": "markdown",
   "metadata": {},
   "source": [
    "Evaluación de prácticas de cultivo para mejorar el rendimiento del maíz mediante un diseño factorial fraccionado 2⁴⁻¹"
   ]
  },
  {
   "cell_type": "markdown",
   "metadata": {},
   "source": [
    "Contexto aplicado / Caso realista\n",
    "\n",
    "Un grupo de investigadores agrícolas está evaluando cuatro prácticas de cultivo para mejorar el rendimiento del maíz (kg por parcela):\n",
    "\n",
    "    A: Tipo de fertilizante (orgánico = -1, químico = +1)\n",
    "\n",
    "    B: Riego (una vez por semana = -1, dos veces por semana = +1)\n",
    "\n",
    "    C: Densidad de siembra (baja = -1, alta = +1)\n",
    "\n",
    "    D: Control de plagas (manual = -1, químico = +1)\n",
    "\n",
    "Por razones logísticas y de recursos, deciden usar un diseño fraccionado 2⁴⁻¹, en el que la condición del cuarto factor se define como: D = A * B * C"
   ]
  },
  {
   "cell_type": "markdown",
   "metadata": {},
   "source": [
    "Objetivo del ejercicio\n",
    "\n",
    "Identificar cuáles prácticas o combinaciones tienen efecto significativo sobre el rendimiento del maíz, utilizando un diseño factorial fraccionado y análisis estadístico en Python\n",
    "\n",
    "- Carga de datos\n",
    "\n",
    "- Codificación de factores (-1, +1)\n",
    "\n",
    "- Exploración inicial del rendimiento\n",
    "\n",
    "- Ajuste de modelo lineal con efectos principales\n",
    "\n",
    "- Análisis ANOVA\n",
    "\n",
    "- Gráficos de efectos principales\n",
    "\n",
    "- Conclusión del experimento"
   ]
  },
  {
   "cell_type": "markdown",
   "metadata": {},
   "source": [
    "Paso 1: Cargamos los datos experimentales del cultivo de maíz y codificamos los factores a niveles -1 y +1 para el análisis factorial."
   ]
  },
  {
   "cell_type": "code",
   "execution_count": 2,
   "metadata": {},
   "outputs": [
    {
     "data": {
      "text/html": [
       "<div>\n",
       "<style scoped>\n",
       "    .dataframe tbody tr th:only-of-type {\n",
       "        vertical-align: middle;\n",
       "    }\n",
       "\n",
       "    .dataframe tbody tr th {\n",
       "        vertical-align: top;\n",
       "    }\n",
       "\n",
       "    .dataframe thead th {\n",
       "        text-align: right;\n",
       "    }\n",
       "</style>\n",
       "<table border=\"1\" class=\"dataframe\">\n",
       "  <thead>\n",
       "    <tr style=\"text-align: right;\">\n",
       "      <th></th>\n",
       "      <th>Parcela</th>\n",
       "      <th>Fertilizante</th>\n",
       "      <th>Riego</th>\n",
       "      <th>Densidad</th>\n",
       "      <th>ControlPlagas</th>\n",
       "      <th>Rendimiento_kg</th>\n",
       "    </tr>\n",
       "  </thead>\n",
       "  <tbody>\n",
       "    <tr>\n",
       "      <th>0</th>\n",
       "      <td>1_1</td>\n",
       "      <td>Orgánico</td>\n",
       "      <td>Bajo</td>\n",
       "      <td>Baja</td>\n",
       "      <td>Manual</td>\n",
       "      <td>39.30</td>\n",
       "    </tr>\n",
       "    <tr>\n",
       "      <th>1</th>\n",
       "      <td>2_1</td>\n",
       "      <td>Orgánico</td>\n",
       "      <td>Bajo</td>\n",
       "      <td>Alta</td>\n",
       "      <td>Químico</td>\n",
       "      <td>44.81</td>\n",
       "    </tr>\n",
       "    <tr>\n",
       "      <th>2</th>\n",
       "      <td>3_1</td>\n",
       "      <td>Orgánico</td>\n",
       "      <td>Alto</td>\n",
       "      <td>Baja</td>\n",
       "      <td>Químico</td>\n",
       "      <td>46.30</td>\n",
       "    </tr>\n",
       "    <tr>\n",
       "      <th>3</th>\n",
       "      <td>4_1</td>\n",
       "      <td>Orgánico</td>\n",
       "      <td>Alto</td>\n",
       "      <td>Alta</td>\n",
       "      <td>Manual</td>\n",
       "      <td>48.30</td>\n",
       "    </tr>\n",
       "    <tr>\n",
       "      <th>4</th>\n",
       "      <td>5_1</td>\n",
       "      <td>Químico</td>\n",
       "      <td>Bajo</td>\n",
       "      <td>Baja</td>\n",
       "      <td>Químico</td>\n",
       "      <td>51.36</td>\n",
       "    </tr>\n",
       "  </tbody>\n",
       "</table>\n",
       "</div>"
      ],
      "text/plain": [
       "  Parcela Fertilizante Riego Densidad ControlPlagas  Rendimiento_kg\n",
       "0     1_1     Orgánico  Bajo     Baja        Manual           39.30\n",
       "1     2_1     Orgánico  Bajo     Alta       Químico           44.81\n",
       "2     3_1     Orgánico  Alto     Baja       Químico           46.30\n",
       "3     4_1     Orgánico  Alto     Alta        Manual           48.30\n",
       "4     5_1      Químico  Bajo     Baja       Químico           51.36"
      ]
     },
     "execution_count": 2,
     "metadata": {},
     "output_type": "execute_result"
    }
   ],
   "source": [
    "# Importar librerías necesarias\n",
    "import pandas as pd\n",
    "\n",
    "# Cargar el archivo CSV (ajusta la ruta si es necesario)\n",
    "df = pd.read_csv(\"Dise_Fraccionado_Ampliado_Maiz.csv\")\n",
    "\n",
    "# Ver las primeras filas\n",
    "df.head()"
   ]
  },
  {
   "cell_type": "code",
   "execution_count": 3,
   "metadata": {},
   "outputs": [
    {
     "data": {
      "text/html": [
       "<div>\n",
       "<style scoped>\n",
       "    .dataframe tbody tr th:only-of-type {\n",
       "        vertical-align: middle;\n",
       "    }\n",
       "\n",
       "    .dataframe tbody tr th {\n",
       "        vertical-align: top;\n",
       "    }\n",
       "\n",
       "    .dataframe thead th {\n",
       "        text-align: right;\n",
       "    }\n",
       "</style>\n",
       "<table border=\"1\" class=\"dataframe\">\n",
       "  <thead>\n",
       "    <tr style=\"text-align: right;\">\n",
       "      <th></th>\n",
       "      <th>Parcela</th>\n",
       "      <th>Fertilizante</th>\n",
       "      <th>Riego</th>\n",
       "      <th>Densidad</th>\n",
       "      <th>ControlPlagas</th>\n",
       "      <th>A</th>\n",
       "      <th>B</th>\n",
       "      <th>C</th>\n",
       "      <th>D</th>\n",
       "    </tr>\n",
       "  </thead>\n",
       "  <tbody>\n",
       "    <tr>\n",
       "      <th>0</th>\n",
       "      <td>1_1</td>\n",
       "      <td>Orgánico</td>\n",
       "      <td>Bajo</td>\n",
       "      <td>Baja</td>\n",
       "      <td>Manual</td>\n",
       "      <td>-1</td>\n",
       "      <td>-1</td>\n",
       "      <td>-1</td>\n",
       "      <td>-1</td>\n",
       "    </tr>\n",
       "    <tr>\n",
       "      <th>1</th>\n",
       "      <td>2_1</td>\n",
       "      <td>Orgánico</td>\n",
       "      <td>Bajo</td>\n",
       "      <td>Alta</td>\n",
       "      <td>Químico</td>\n",
       "      <td>-1</td>\n",
       "      <td>-1</td>\n",
       "      <td>1</td>\n",
       "      <td>1</td>\n",
       "    </tr>\n",
       "    <tr>\n",
       "      <th>2</th>\n",
       "      <td>3_1</td>\n",
       "      <td>Orgánico</td>\n",
       "      <td>Alto</td>\n",
       "      <td>Baja</td>\n",
       "      <td>Químico</td>\n",
       "      <td>-1</td>\n",
       "      <td>1</td>\n",
       "      <td>-1</td>\n",
       "      <td>1</td>\n",
       "    </tr>\n",
       "    <tr>\n",
       "      <th>3</th>\n",
       "      <td>4_1</td>\n",
       "      <td>Orgánico</td>\n",
       "      <td>Alto</td>\n",
       "      <td>Alta</td>\n",
       "      <td>Manual</td>\n",
       "      <td>-1</td>\n",
       "      <td>1</td>\n",
       "      <td>1</td>\n",
       "      <td>-1</td>\n",
       "    </tr>\n",
       "    <tr>\n",
       "      <th>4</th>\n",
       "      <td>5_1</td>\n",
       "      <td>Químico</td>\n",
       "      <td>Bajo</td>\n",
       "      <td>Baja</td>\n",
       "      <td>Químico</td>\n",
       "      <td>1</td>\n",
       "      <td>-1</td>\n",
       "      <td>-1</td>\n",
       "      <td>1</td>\n",
       "    </tr>\n",
       "  </tbody>\n",
       "</table>\n",
       "</div>"
      ],
      "text/plain": [
       "  Parcela Fertilizante Riego Densidad ControlPlagas  A  B  C  D\n",
       "0     1_1     Orgánico  Bajo     Baja        Manual -1 -1 -1 -1\n",
       "1     2_1     Orgánico  Bajo     Alta       Químico -1 -1  1  1\n",
       "2     3_1     Orgánico  Alto     Baja       Químico -1  1 -1  1\n",
       "3     4_1     Orgánico  Alto     Alta        Manual -1  1  1 -1\n",
       "4     5_1      Químico  Bajo     Baja       Químico  1 -1 -1  1"
      ]
     },
     "execution_count": 3,
     "metadata": {},
     "output_type": "execute_result"
    }
   ],
   "source": [
    "# Codificación de los factores: -1 (nivel bajo), +1 (nivel alto)\n",
    "codificacion = {\n",
    "    'Orgánico': -1, 'Químico': 1,\n",
    "    'Bajo': -1, 'Alto': 1,\n",
    "    'Baja': -1, 'Alta': 1,\n",
    "    'Manual': -1, 'Químico': 1\n",
    "}\n",
    "\n",
    "# Aplicar codificación a cada columna de tratamiento\n",
    "df['A'] = df['Fertilizante'].map(codificacion)\n",
    "df['B'] = df['Riego'].map(codificacion)\n",
    "df['C'] = df['Densidad'].map(codificacion)\n",
    "df['D'] = df['ControlPlagas'].map(codificacion)\n",
    "\n",
    "# Verificar codificación\n",
    "df[['Parcela', 'Fertilizante', 'Riego', 'Densidad', 'ControlPlagas', 'A', 'B', 'C', 'D']].head()\n"
   ]
  },
  {
   "cell_type": "markdown",
   "metadata": {},
   "source": [
    "Paso 2: Exploración de los datos y ajuste del modelo lineal.\n",
    "\n",
    "    Hacemos un resumen general del rendimiento.\n",
    "\n",
    "    Ajustamos un modelo lineal con los factores codificados.\n",
    "\n",
    "    Interpretamos los efectos principales.\n",
    "\n"
   ]
  },
  {
   "cell_type": "code",
   "execution_count": 4,
   "metadata": {},
   "outputs": [
    {
     "name": "stdout",
     "output_type": "stream",
     "text": [
      "count    40.000000\n",
      "mean     49.465000\n",
      "std       6.215567\n",
      "min      38.480000\n",
      "25%      45.155000\n",
      "50%      49.170000\n",
      "75%      53.252500\n",
      "max      62.780000\n",
      "Name: Rendimiento_kg, dtype: float64\n"
     ]
    },
    {
     "data": {
      "image/png": "[encoded data removed]",
      "text/plain": [
       "<Figure size 576x360 with 1 Axes>"
      ]
     },
     "metadata": {
      "needs_background": "light"
     },
     "output_type": "display_data"
    }
   ],
   "source": [
    "#  Estadísticas descriptivas del rendimiento\n",
    "print(df['Rendimiento_kg'].describe())\n",
    "\n",
    "#  Boxplot para ver la distribución general\n",
    "import matplotlib.pyplot as plt\n",
    "import seaborn as sns\n",
    "\n",
    "plt.figure(figsize=(8, 5))\n",
    "sns.boxplot(data=df, y='Rendimiento_kg')\n",
    "plt.title(\"Distribución del rendimiento del maíz (kg por parcela)\")\n",
    "plt.ylabel(\"Rendimiento (kg)\")\n",
    "plt.grid(True)\n",
    "plt.show()\n"
   ]
  },
  {
   "cell_type": "code",
   "execution_count": 5,
   "metadata": {},
   "outputs": [
    {
     "name": "stdout",
     "output_type": "stream",
     "text": [
      "                            OLS Regression Results                            \n",
      "==============================================================================\n",
      "Dep. Variable:         Rendimiento_kg   R-squared:                       0.960\n",
      "Model:                            OLS   Adj. R-squared:                  0.956\n",
      "Method:                 Least Squares   F-statistic:                     211.7\n",
      "Date:                Tue, 01 Jul 2025   Prob (F-statistic):           5.34e-24\n",
      "Time:                        11:53:25   Log-Likelihood:                -64.800\n",
      "No. Observations:                  40   AIC:                             139.6\n",
      "Df Residuals:                      35   BIC:                             148.0\n",
      "Df Model:                           4                                         \n",
      "Covariance Type:            nonrobust                                         \n",
      "==============================================================================\n",
      "                 coef    std err          t      P>|t|      [0.025      0.975]\n",
      "------------------------------------------------------------------------------\n",
      "const         49.4650      0.207    239.337      0.000      49.045      49.885\n",
      "A              4.9200      0.207     23.805      0.000       4.500       5.340\n",
      "B              2.9525      0.207     14.286      0.000       2.533       3.372\n",
      "C              1.5150      0.207      7.330      0.000       1.095       1.935\n",
      "D              0.9765      0.207      4.725      0.000       0.557       1.396\n",
      "==============================================================================\n",
      "Omnibus:                        0.344   Durbin-Watson:                   2.075\n",
      "Prob(Omnibus):                  0.842   Jarque-Bera (JB):                0.506\n",
      "Skew:                           0.166   Prob(JB):                        0.776\n",
      "Kurtosis:                       2.560   Cond. No.                         1.00\n",
      "==============================================================================\n",
      "\n",
      "Notes:\n",
      "[1] Standard Errors assume that the covariance matrix of the errors is correctly specified.\n"
     ]
    }
   ],
   "source": [
    "import statsmodels.api as sm\n",
    "\n",
    "# Definir variables independientes (A, B, C, D) y dependiente (rendimiento)\n",
    "X = df[['A', 'B', 'C', 'D']]\n",
    "X = sm.add_constant(X)  # agregar intercepto\n",
    "y = df['Rendimiento_kg']\n",
    "\n",
    "# Ajustar modelo lineal\n",
    "modelo = sm.OLS(y, X).fit()\n",
    "\n",
    "# Resumen del modelo\n",
    "print(modelo.summary())\n"
   ]
  },
  {
   "cell_type": "code",
   "execution_count": 6,
   "metadata": {},
   "outputs": [
    {
     "data": {
      "image/png": "[encoded data removed]",
      "text/plain": [
       "<Figure size 432x288 with 1 Axes>"
      ]
     },
     "metadata": {
      "needs_background": "light"
     },
     "output_type": "display_data"
    }
   ],
   "source": [
    "# Extraer coeficientes sin el intercepto\n",
    "efectos = modelo.params.drop(\"const\")\n",
    "\n",
    "# Graficar efectos estimados\n",
    "efectos.plot(kind='bar', title=\"Efectos estimados de los factores sobre el rendimiento\", ylabel=\"Efecto estimado\")\n",
    "plt.axhline(0, color='gray', linestyle='--')\n",
    "plt.grid(True)\n",
    "plt.tight_layout()\n",
    "plt.show()\n"
   ]
  },
  {
   "cell_type": "markdown",
   "metadata": {},
   "source": [
    "se realiza  un análisis de varianza (ANOVA) para determinar si alguno de los factores tiene un efecto significativo sobre el rendimiento del maíz. Observamos los valores p para interpretar la significancia estadística."
   ]
  },
  {
   "cell_type": "code",
   "execution_count": 7,
   "metadata": {},
   "outputs": [
    {
     "name": "stdout",
     "output_type": "stream",
     "text": [
      "            df     sum_sq     mean_sq           F        PR(>F)\n",
      "A          1.0  968.25600  968.256000  566.700657  3.319922e-23\n",
      "B          1.0  348.69025  348.690250  204.081352  3.596044e-16\n",
      "C          1.0   91.80900   91.809000   53.733951  1.438772e-08\n",
      "D          1.0   38.14209   38.142090   22.323794  3.673418e-05\n",
      "Residual  35.0   59.80046    1.708585         NaN           NaN\n"
     ]
    }
   ],
   "source": [
    "import statsmodels.formula.api as smf\n",
    "from statsmodels.stats.anova import anova_lm\n",
    "\n",
    "# Ajustar el modelo usando fórmula\n",
    "modelo_anova = smf.ols('Rendimiento_kg ~ A + B + C + D', data=df).fit()\n",
    "\n",
    "# Tabla ANOVA\n",
    "anova_resultados = anova_lm(modelo_anova)\n",
    "\n",
    "# Mostrar la tabla\n",
    "print(anova_resultados)\n"
   ]
  },
  {
   "cell_type": "markdown",
   "metadata": {},
   "source": [
    "Análisis de medias por combinación de tratamientos\n",
    "\n",
    "Ahora agruparemos los datos por las combinaciones de tratamientos (fertilizante, riego, densidad y control de plagas) para:\n",
    "\n",
    "    Calcular el rendimiento promedio por combinación.\n",
    "\n",
    "    Visualizar qué combinación es más efectiva.\n",
    "\n",
    "    Sugerir prácticas agrícolas óptimas."
   ]
  },
  {
   "cell_type": "code",
   "execution_count": 8,
   "metadata": {},
   "outputs": [
    {
     "name": "stdout",
     "output_type": "stream",
     "text": [
      "  Fertilizante Riego Densidad ControlPlagas  Rendimiento_kg\n",
      "4      Químico  Alto     Alta       Químico          60.338\n",
      "5      Químico  Alto     Baja        Manual          54.786\n",
      "6      Químico  Bajo     Alta        Manual          51.466\n",
      "7      Químico  Bajo     Baja       Químico          50.950\n",
      "0     Orgánico  Alto     Alta        Manual          48.092\n",
      "1     Orgánico  Alto     Baja       Químico          46.454\n",
      "2     Orgánico  Bajo     Alta       Químico          44.024\n",
      "3     Orgánico  Bajo     Baja        Manual          39.610\n"
     ]
    }
   ],
   "source": [
    "# Agrupar por combinación de tratamientos y calcular el promedio de rendimiento\n",
    "medias = df.groupby(['Fertilizante', 'Riego', 'Densidad', 'ControlPlagas'])['Rendimiento_kg'].mean().reset_index()\n",
    "\n",
    "# Ordenar por rendimiento de mayor a menor\n",
    "medias = medias.sort_values(by='Rendimiento_kg', ascending=False)\n",
    "\n",
    "# Mostrar el resumen\n",
    "print(medias)\n"
   ]
  },
  {
   "cell_type": "code",
   "execution_count": 9,
   "metadata": {},
   "outputs": [
    {
     "data": {
      "image/png": "[encoded data removed]",
      "text/plain": [
       "<Figure size 864x432 with 1 Axes>"
      ]
     },
     "metadata": {
      "needs_background": "light"
     },
     "output_type": "display_data"
    }
   ],
   "source": [
    "# Crear una columna combinada para visualizar mejor\n",
    "medias['Combinación'] = (medias['Fertilizante'] + ' | ' + \n",
    "                         medias['Riego'] + ' | ' + \n",
    "                         medias['Densidad'] + ' | ' + \n",
    "                         medias['ControlPlagas'])\n",
    "\n",
    "# Gráfico de barras\n",
    "plt.figure(figsize=(12, 6))\n",
    "sns.barplot(data=medias, x='Rendimiento_kg', y='Combinación', palette='viridis')\n",
    "plt.title(\"Rendimiento promedio por combinación de tratamientos\")\n",
    "plt.xlabel(\"Rendimiento promedio (kg/parcela)\")\n",
    "plt.ylabel(\"Combinación de tratamientos\")\n",
    "plt.grid(True)\n",
    "plt.tight_layout()\n",
    "plt.show()\n"
   ]
  },
  {
   "cell_type": "markdown",
   "metadata": {},
   "source": [
    "El presente estudio utilizó un diseño factorial fraccionado 2⁴⁻¹ con 5 repeticiones por combinación para evaluar el efecto de distintas prácticas agrícolas sobre el rendimiento del cultivo de maíz.\n",
    "Principales hallazgos:\n",
    "\n",
    "    Fertilizante químico y riego alto (dos veces por semana) fueron los factores con efectos más significativos y positivos sobre el rendimiento, tanto en el modelo lineal como en el ANOVA.\n",
    "\n",
    "    La combinación óptima observada fue:\n",
    "\n",
    "        Fertilizante: Químico\n",
    "\n",
    "        Riego: Alto\n",
    "\n",
    "        Densidad de siembra: Alta\n",
    "\n",
    "        Control de plagas: Químico\n",
    "\n",
    "    Esta combinación generó los mayores rendimientos promedio en las parcelas evaluadas.\n",
    "\n",
    "    El diseño fraccionado permitió reducir el número de corridas experimentales de 16 a 8, manteniendo la capacidad de identificar efectos principales de manera eficiente y económica.\n",
    "\n",
    "Recomendaciones prácticas:\n",
    "\n",
    "    Para futuros ciclos de siembra, se sugiere aplicar fertilizante químico y riego más frecuente como prácticas prioritarias.\n",
    "\n",
    "    Puede estudiarse en una segunda fase la interacción entre densidad de siembra y fertilización, dado que mostraron efectos acumulativos.\n",
    "\n",
    "    A mediano plazo, se recomienda validar estos resultados en un diseño factorial completo o en campo con más unidades experimentales.\n",
    "\n",
    "Este ejercicio demuestra cómo los diseños fraccionados pueden aplicarse eficazmente en agricultura para mejorar decisiones de manejo con base en análisis estadístico riguroso."
   ]
  }
 ],
 "metadata": {
  "kernelspec": {
   "display_name": "Python 3",
   "language": "python",
   "name": "python3"
  },
  "language_info": {
   "codemirror_mode": {
    "name": "ipython",
    "version": 3
   },
   "file_extension": ".py",
   "mimetype": "text/x-python",
   "name": "python",
   "nbconvert_exporter": "python",
   "pygments_lexer": "ipython3",
   "version": "3.8.5"
  }
 },
 "nbformat": 4,
 "nbformat_minor": 4
}
